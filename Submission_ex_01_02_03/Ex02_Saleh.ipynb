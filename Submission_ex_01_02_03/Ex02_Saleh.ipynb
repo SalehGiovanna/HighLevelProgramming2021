{
 "cells": [
  {
   "cell_type": "markdown",
   "metadata": {},
   "source": [
    "1. Write the following expressions using the list comprehension"
   ]
  },
  {
   "cell_type": "code",
   "execution_count": 1,
   "metadata": {},
   "outputs": [
    {
     "name": "stdout",
     "output_type": "stream",
     "text": [
      "[(0, 0), (0, 1), (0, 2), (0, 3), (1, 0), (1, 1), (1, 2), (1, 3), (2, 0), (2, 1), (2, 2), (2, 3)]\n",
      "[1, 9, 25, 49, 81]\n"
     ]
    }
   ],
   "source": [
    "#Code 1a\n",
    "ans = []\n",
    "for i in range(3):\n",
    "    for j in range(4):\n",
    "        ans.append((i, j))\n",
    "print(ans)\n",
    "\n",
    "#Code 1b\n",
    "ans = map(lambda x: x * x, filter(lambda x: x % 2 == 1, range(10)))\n",
    "print(list(ans))"
   ]
  },
  {
   "cell_type": "code",
   "execution_count": 2,
   "metadata": {},
   "outputs": [
    {
     "name": "stdout",
     "output_type": "stream",
     "text": [
      "[(0, 0), (0, 1), (0, 2), (0, 3), (1, 0), (1, 1), (1, 2), (1, 3), (2, 0), (2, 1), (2, 2), (2, 3)]\n"
     ]
    }
   ],
   "source": [
    "#Exercise 1a\n",
    "#List comprehension equivalent to code 1a\n",
    "\n",
    "ans = [(i,j) for i in range(3) for j in range(4)]\n",
    "print(ans)\n"
   ]
  },
  {
   "cell_type": "code",
   "execution_count": 3,
   "metadata": {},
   "outputs": [
    {
     "name": "stdout",
     "output_type": "stream",
     "text": [
      "[1, 9, 25, 49, 81]\n"
     ]
    }
   ],
   "source": [
    "#Exercise 1b\n",
    "#List comprehension equivalent to code 1b\n",
    "#The function returns the list of the squares (map) of odd numbers (selected with filter) between 1 and 9\n",
    "\n",
    "ans = [x*x for x in range(1,10) if x%2!=0]\n",
    "print(ans)\n"
   ]
  },
  {
   "cell_type": "markdown",
   "metadata": {},
   "source": [
    "2\\. Convert the function $f$ into a function that doesn't use global variables and that does not modify the original list"
   ]
  },
  {
   "cell_type": "code",
   "execution_count": 4,
   "metadata": {},
   "outputs": [
    {
     "name": "stdout",
     "output_type": "stream",
     "text": [
      "[1, 2, 3, 0, 1, 2, 3, 4]\n",
      "[1, 2, 3, 0, 1, 2, 3, 4]\n"
     ]
    }
   ],
   "source": [
    "#Original function\n",
    "\n",
    "x = 5 #Gobal variable\n",
    "def f(alist):\n",
    "    for i in range(x):\n",
    "         alist.append(i)\n",
    "    return alist\n",
    "\n",
    "alist = [1,2,3]\n",
    "ans = f(alist)\n",
    "print(ans)\n",
    "print(alist) # alist has been changed!"
   ]
  },
  {
   "cell_type": "code",
   "execution_count": 5,
   "metadata": {},
   "outputs": [
    {
     "name": "stdout",
     "output_type": "stream",
     "text": [
      "Original list:\n",
      "[1, 2, 3]\n",
      "f(list):\n",
      "[1, 2, 3, 0, 1, 2, 3, 4]\n",
      "list:\n",
      "[1, 2, 3]\n"
     ]
    }
   ],
   "source": [
    "#Exercise 2\n",
    "\n",
    "def f(alist):\n",
    " \n",
    "    list_temp=[]\n",
    "    for i in range(0,len(alist)):\n",
    "        list_temp.append(alist[i])\n",
    "    x=5\n",
    "    for i in range(0,x):\n",
    "        list_temp.append(i)\n",
    "    return list_temp\n",
    "\n",
    "alist=[1,2,3]\n",
    "\n",
    "print(\"Original list:\") \n",
    "print(alist)\n",
    "print(\"f(list):\")\n",
    "print(f(alist))\n",
    "print(\"list:\")\n",
    "print(alist)\n"
   ]
  },
  {
   "cell_type": "markdown",
   "metadata": {},
   "source": [
    "3\\. Write a `decorator` hello that makes every wrapped function print “Hello!”, i.e. something like:\n",
    "\n",
    "```python\n",
    "@hello\n",
    "def square(x):\n",
    "    return x*x\n",
    "```\n",
    "\n"
   ]
  },
  {
   "cell_type": "code",
   "execution_count": 6,
   "metadata": {},
   "outputs": [
    {
     "name": "stdout",
     "output_type": "stream",
     "text": [
      "Hello\n",
      "4\n",
      "Hello\n",
      "Hello\n",
      "8\n",
      "Hello\n"
     ]
    }
   ],
   "source": [
    "#Exercise 3\n",
    "\n",
    "def hello(func):\n",
    "    def wrapper(x):\n",
    "        print(\"Hello\")\n",
    "        func(x)\n",
    "        print(\"Hello\")\n",
    "    return wrapper\n",
    "\n",
    "@hello\n",
    "def square(x):\n",
    "    print(x*x)\n",
    "\n",
    "square(2)\n",
    "\n",
    "@hello\n",
    "def cube(x):\n",
    "    print(x**3)\n",
    "    \n",
    "cube(2)"
   ]
  },
  {
   "cell_type": "markdown",
   "metadata": {},
   "source": [
    "4\\. Write the factorial function in two different ways, so that it a) does and b) does not use recursion."
   ]
  },
  {
   "cell_type": "code",
   "execution_count": 7,
   "metadata": {},
   "outputs": [
    {
     "data": {
      "text/plain": [
       "24"
      ]
     },
     "execution_count": 7,
     "metadata": {},
     "output_type": "execute_result"
    }
   ],
   "source": [
    "#Exercise 4a (recursive function)\n",
    "#n! = 1*2*3*4*...*(n-1)*n\n",
    "\n",
    "def factorial(n):\n",
    "    if n==1:\n",
    "        return 1\n",
    "    else:\n",
    "        n_fact=n*factorial(n-1)\n",
    "        return(n_fact)\n",
    "        \n",
    "factorial(4)\n"
   ]
  },
  {
   "cell_type": "code",
   "execution_count": 8,
   "metadata": {},
   "outputs": [
    {
     "data": {
      "text/plain": [
       "24"
      ]
     },
     "execution_count": 8,
     "metadata": {},
     "output_type": "execute_result"
    }
   ],
   "source": [
    "#Exercise 4b (without recursive function)\n",
    "#n! = 1*2*3*4*...*(n-1)*n\n",
    "\n",
    "def factorial(n):\n",
    "    n_fact=1\n",
    "    for i in range(1,n+1): #!! Sto moltiplicando fino a n (range non legge l'ultimo)\n",
    "        n_fact*=i\n",
    "    return n_fact\n",
    "\n",
    "factorial(4)\n"
   ]
  },
  {
   "cell_type": "markdown",
   "metadata": {},
   "source": [
    "5\\. Use HOFs (zip in particular) to compute the weight of a circle, a disk and a sphere, assuming different radii and different densities:\n",
    "\n",
    "```python\n",
    "densities = {\"Al\" : [0.5, 1, 2], \"Fe\" : [3, 4, 5], \"Pb\" : [15, 20, 30]}\n",
    "radii = [1, 2, 3]\n",
    "```\n",
    "\n",
    "where the entries of the dictionary's values are the linear, superficial and volumetric densities of the materials respectively.\n",
    "\n",
    "Subsequently, define a list using a comprehension with three lambda functions that compute the circumference, the area and the volume for a given radius.\n"
   ]
  },
  {
   "cell_type": "code",
   "execution_count": 11,
   "metadata": {
    "scrolled": false
   },
   "outputs": [
    {
     "name": "stdout",
     "output_type": "stream",
     "text": [
      "\n",
      "\n",
      "Radius:  1\n",
      "CIRCLE (length):  6.283185307179586\n",
      "Density:  0.5 - Al \t Weight:  3.141592653589793\n",
      "Density:  3 - Fe \t Weight:  18.84955592153876\n",
      "Density:  15 - Pb \t Weight:  94.24777960769379\n",
      "\n",
      "\n",
      "DISK (surface):  3.141592653589793\n",
      "Density:  1 - Al \t Weight:  3.141592653589793\n",
      "Density:  4 - Fe \t Weight:  12.566370614359172\n",
      "Density:  20 - Pb \t Weight:  62.83185307179586\n",
      "\n",
      "\n",
      "SPHERE (volume):  4.1887902047863905\n",
      "Density:  2 - Al \t Weight:  8.377580409572781\n",
      "Density:  5 - Fe \t Weight:  20.94395102393195\n",
      "Density:  30 - Pb \t Weight:  125.66370614359171\n",
      "\n",
      "\n",
      "\n",
      "\n",
      "Radius:  2\n",
      "CIRCLE (length):  12.566370614359172\n",
      "Density:  0.5 - Al \t Weight:  6.283185307179586\n",
      "Density:  3 - Fe \t Weight:  37.69911184307752\n",
      "Density:  15 - Pb \t Weight:  188.49555921538757\n",
      "\n",
      "\n",
      "DISK (surface):  12.566370614359172\n",
      "Density:  1 - Al \t Weight:  12.566370614359172\n",
      "Density:  4 - Fe \t Weight:  50.26548245743669\n",
      "Density:  20 - Pb \t Weight:  251.32741228718345\n",
      "\n",
      "\n",
      "SPHERE (volume):  33.510321638291124\n",
      "Density:  2 - Al \t Weight:  67.02064327658225\n",
      "Density:  5 - Fe \t Weight:  167.5516081914556\n",
      "Density:  30 - Pb \t Weight:  1005.3096491487337\n",
      "\n",
      "\n",
      "\n",
      "\n",
      "Radius:  3\n",
      "CIRCLE (length):  18.84955592153876\n",
      "Density:  0.5 - Al \t Weight:  9.42477796076938\n",
      "Density:  3 - Fe \t Weight:  56.548667764616276\n",
      "Density:  15 - Pb \t Weight:  282.7433388230814\n",
      "\n",
      "\n",
      "DISK (surface):  28.274333882308138\n",
      "Density:  1 - Al \t Weight:  28.274333882308138\n",
      "Density:  4 - Fe \t Weight:  113.09733552923255\n",
      "Density:  20 - Pb \t Weight:  565.4866776461628\n",
      "\n",
      "\n",
      "SPHERE (volume):  113.09733552923254\n",
      "Density:  2 - Al \t Weight:  226.19467105846508\n",
      "Density:  5 - Fe \t Weight:  565.4866776461627\n",
      "Density:  30 - Pb \t Weight:  3392.920065876976\n",
      "\n",
      "\n"
     ]
    }
   ],
   "source": [
    "#Exercise 5 \n",
    "\n",
    "\n",
    "from math import pi\n",
    "\n",
    "\n",
    "radii = [1, 2, 3] # All the calculations are made for these value of the radii\n",
    "densities = {\"Al\" : [0.5, 1, 2], \"Fe\" : [3, 4, 5], \"Pb\" : [15, 20, 30]}\n",
    "keys= [i for i in densities]\n",
    "shapes = [\"CIRCLE (length): \", \"DISK (surface): \", \"SPHERE (volume): \"]\n",
    "dimensions = [lambda r: 2.0*pi*r, lambda r: pi*r**2, lambda r: (4.0/3.0)*pi*r**3] # Circumference, Area, Volume\n",
    "      \n",
    "for i in range(0,len(radii)): # I make the calculation for the three possible values of the radii\n",
    "    print(\"\\n\")\n",
    "    print(\"Radius: \", radii[i])\n",
    "    \n",
    "    for [rhoAl, rhoFe, rhoPb, dim, shape] in zip(densities[\"Al\"], densities[\"Fe\"], densities[\"Pb\"], dimensions, shapes):\n",
    "            print(shape, dim(radii[i]))\n",
    "            rho = [rhoAl,rhoFe,rhoPb] # List with the three densities of the same \"type\"\n",
    "            \n",
    "            for j in range(0, len(rho)):\n",
    "                m=rho[j]*(dim(radii[i])) # mass = density * volume\n",
    "                print(\"Density: \", rho[j], \"-\", keys[j], \"\\t\",  \"Weight: \", m)\n",
    "            print(\"\\n\")\n",
    "\n",
    "\n"
   ]
  },
  {
   "cell_type": "markdown",
   "metadata": {},
   "source": [
    "6\\. Edit the class defintion to add an instance attribute of `is_hungry = True` to the Dog class. Then add a method called `eat()` which changes the value of `is_hungry` to `False` when called. Figure out the best way to instantiate the dog objects and to feed the dogs, e.g. call the `eat()` method for all instances. Finally, print “My dogs are hungry.” or “My dogs are not hungry.” if all of them have `is_hungry = True` or `False`, respectively. The final output should look like this:\n",
    "\n",
    "`I have 3 dogs. \n",
    "Tom is 6. \n",
    "Fletcher is 7. \n",
    "Larry is 9. \n",
    "And they're all mammals, of course. \n",
    "My dogs are not hungry.\n",
    "`\n",
    "\n",
    "```python\n",
    "# Parent class\n",
    "class Dog:\n",
    "\n",
    "    # Class attribute\n",
    "    species = 'mammal'\n",
    "\n",
    "    # Initializer / Instance attributes\n",
    "    def __init__(self, name, age):\n",
    "        self.name = name\n",
    "        self.age = age\n",
    "\n",
    "    # instance method\n",
    "    def description(self):\n",
    "        return \"{} is {} years old\".format(self.name, self.age)\n",
    "\n",
    "    # instance method\n",
    "    def speak(self, sound):\n",
    "        return \"{} says {}\".format(self.name, sound)\n",
    "\n",
    "# Child class (inherits from Dog class)\n",
    "class RussellTerrier(Dog):\n",
    "    def run(self, speed):\n",
    "        return \"{} runs {}\".format(self.name, speed)\n",
    "\n",
    "# Child class (inherits from Dog class)\n",
    "class Bulldog(Dog):\n",
    "    def run(self, speed):\n",
    "        return \"{} runs {}\".format(self.name, speed)\n",
    "```"
   ]
  },
  {
   "cell_type": "code",
   "execution_count": 10,
   "metadata": {},
   "outputs": [
    {
     "name": "stdout",
     "output_type": "stream",
     "text": [
      "I have 4 dogs\n",
      "Tom is 6\n",
      "Fletcher is 7\n",
      "Larry is 9\n",
      "They are all mammals, of course\n",
      "My dogs are not hungry\n"
     ]
    }
   ],
   "source": [
    "#Exercise 6\n",
    "\n",
    "# Parent class\n",
    "class Dog:\n",
    "\n",
    "    # Class attribute\n",
    "    species = 'mammal'\n",
    "\n",
    "    # Initializer / Instance attributes\n",
    "    def __init__(self, name, age, is_hungry):\n",
    "        self.name = name\n",
    "        self.age = age\n",
    "        self.is_hungry = True #instance attribute of is_hungry = True\n",
    "\n",
    "    # instance method\n",
    "    def description(self):\n",
    "        return \"{} is {} years old\".format(self.name, self.age)\n",
    "    \n",
    "    def eat(self): # method eat()\n",
    "        self.is_hungry = False\n",
    "        return self.is_hungry\n",
    "\n",
    "    # instance method\n",
    "    def speak(self, sound):\n",
    "        return \"{} says {}\".format(self.name, sound)\n",
    "\n",
    "# Child class (inherits from Dog class)\n",
    "class RussellTerrier(Dog):\n",
    "    def run(self, speed):\n",
    "        return \"{} runs {}\".format(self.name, speed)\n",
    "\n",
    "# Child class (inherits from Dog class)\n",
    "class Bulldog(Dog):\n",
    "    def run(self, speed):\n",
    "        return \"{} runs {}\".format(self.name, speed)\n",
    "    \n",
    "    \n",
    "#I instantiate the dog objects and feed the dogs\n",
    "\n",
    "l_dogs=[Dog(\"Tom\", 6, True), Dog(\"Fletcher\",7, True), Dog(\"Larry\", 9, True)]\n",
    "\n",
    "print(\"I have \"+ str(len(l_dogs)+1) + \" dogs\")\n",
    "for i in range(0,len(l_dogs)):\n",
    "    print(str(l_dogs[i].name) + \" is \" + str(l_dogs[i].age))\n",
    "\n",
    "if all(l_dogs[i].species == \"mammal\" for l_dogs[i] in l_dogs):\n",
    "    print(\"They are all mammals, of course\")\n",
    "    \n",
    "for i in range(0,len(l_dogs)):\n",
    "    l_dogs[i].eat()\n",
    "if all(l_dogs[i].is_hungry == True for l_dogs[i] in l_dogs):\n",
    "    print(\"My dogs are hungry\")\n",
    "elif all(l_dogs[i].is_hungry == False  for l_dogs[i] in l_dogs):\n",
    "    print(\"My dogs are not hungry\")\n",
    "    \n"
   ]
  },
  {
   "cell_type": "code",
   "execution_count": null,
   "metadata": {},
   "outputs": [],
   "source": []
  }
 ],
 "metadata": {
  "kernelspec": {
   "display_name": "Python 3 (ipykernel)",
   "language": "python",
   "name": "python3"
  },
  "language_info": {
   "codemirror_mode": {
    "name": "ipython",
    "version": 3
   },
   "file_extension": ".py",
   "mimetype": "text/x-python",
   "name": "python",
   "nbconvert_exporter": "python",
   "pygments_lexer": "ipython3",
   "version": "3.7.4"
  }
 },
 "nbformat": 4,
 "nbformat_minor": 2
}
