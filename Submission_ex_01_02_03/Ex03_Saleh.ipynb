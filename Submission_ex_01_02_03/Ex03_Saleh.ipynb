{
 "cells": [
  {
   "cell_type": "markdown",
   "metadata": {},
   "source": [
    "1\\. Write a function that converts numbers among the bin, dec, and hex representations (bin<->dec<->hex)"
   ]
  },
  {
   "cell_type": "code",
   "execution_count": 1,
   "metadata": {},
   "outputs": [
    {
     "name": "stdout",
     "output_type": "stream",
     "text": [
      "Binary repr:  0b11\n",
      "Decimal repr:  3\n",
      "Hexadecimal repr:  0x3\n",
      "None \n",
      "\n",
      "Binary repr:  0b1010\n",
      "Decimal repr:  10\n",
      "Hexadecimal repr:  0xa\n",
      "None \n",
      "\n",
      "Binary repr:  0b10001\n",
      "Decimal repr:  17\n",
      "Hexadecimal repr:  0x11\n",
      "None \n",
      "\n",
      "Error: Input is not a number\n",
      "None\n"
     ]
    }
   ],
   "source": [
    "#Exercise 1 \n",
    "\n",
    "#Input number must be provided with prefix 0b if binary, 0x if hexadecimal, no prefix if decimal\n",
    "\n",
    "def conversion(n):\n",
    "    \n",
    "    try:#if n is a number (either binary, decimal (int) or hexadecimal)\n",
    "             \n",
    "        nbin=bin(n)\n",
    "        ndec=int(n)\n",
    "        nhex=hex(n)\n",
    "        \n",
    "        print(\"Binary repr: \", nbin)\n",
    "        print(\"Decimal repr: \", ndec)\n",
    "        print(\"Hexadecimal repr: \", nhex)\n",
    "\n",
    "    except:#se n non è un numero\n",
    "        print(\"Error: Input is not a number\")\n",
    "        \n",
    "        \n",
    "print(conversion(3), \"\\n\")\n",
    "\n",
    "print(conversion(0b1010), \"\\n\")\n",
    "\n",
    "print(conversion(0x11), \"\\n\")\n",
    "\n",
    "print(conversion(\"Ciao\"))\n",
    "        \n",
    "    "
   ]
  },
  {
   "cell_type": "markdown",
   "metadata": {},
   "source": [
    "2\\. Write a function that converts a 32 bit word into a single precision floating point (i.e. interprets the various bits as sign, mantissa and exponent) and check its validity."
   ]
  },
  {
   "cell_type": "code",
   "execution_count": 2,
   "metadata": {},
   "outputs": [
    {
     "name": "stdout",
     "output_type": "stream",
     "text": [
      "Input number:  01000000111010000000000000000000 (7.25) \n",
      "\n",
      "Sign:  0\n",
      "Exponent:  10000001\n",
      "Mantissa:  11010000000000000000000\n",
      "\n",
      "\n",
      "Exponent-bias =  2\n",
      "1.f =  1.8125\n",
      "\n",
      " => X_float:  7.25\n"
     ]
    }
   ],
   "source": [
    "#Exercise 2\n",
    "\n",
    "\n",
    "input_number= \"01000000111010000000000000000000\" #7.25\n",
    "print(\"Input number: \", input_number, \"(7.25) \\n\")\n",
    "\n",
    "\n",
    "bias = 127 # bias for single precision\n",
    "\n",
    "digits = [x for x in input_number] \n",
    "#Indeces run from left to right\n",
    "#I want them from right to left (from least to most significant bit):\n",
    "digits.reverse()\n",
    "\n",
    "mantissa =[]\n",
    "exponent=[]\n",
    "\n",
    "for i in range(0,23):\n",
    "    mantissa.append(digits[i])\n",
    "for i in range(23,31):\n",
    "    exponent.append(digits[i])\n",
    "sign = digits[31]\n",
    "\n",
    "mantissa.reverse()\n",
    "exponent.reverse()\n",
    "#Digits are back in the original order, but separed in the three components\n",
    "#Check:\n",
    "print(\"Sign: \", \"\".join(sign))\n",
    "print(\"Exponent: \", \"\".join(exponent))\n",
    "print(\"Mantissa: \", \"\".join(mantissa))\n",
    "print(\"\\n\")\n",
    "\n",
    "\n",
    "\n",
    "#Conversion of the exponent:\n",
    "exponent.insert(0,\"b\")\n",
    "exponent.insert(0,\"0\")#I add 0b at the beginning, so as to clarify it is binary\n",
    "\n",
    "stemp = \"\".join(exponent)#prendo la lista di caratteri e la rendo una stringa\n",
    "exp10=int(stemp,2)\n",
    "exp10=exp10-bias#Sottraggo il bias\n",
    "print(\"Exponent-bias = \", exp10)\n",
    "\n",
    "\n",
    "\n",
    "#Conversion of the mantissa:\n",
    "mant10=1\n",
    "for i in range(0,len(mantissa)):\n",
    "    mant10+=(int(mantissa[i-1])*(2**(-i))) #i=0 is the most left hand sided digit (msb, bit 22)\n",
    "print(\"1.f = \", mant10)\n",
    "\n",
    "\n",
    "\n",
    "#Resulting floating point number\n",
    "if int(sign)==0:\n",
    "    x_float = mant10*(2**exp10)\n",
    "elif int(sign) ==1:\n",
    "    x_float = -mant10*(2**exp10)\n",
    "\n",
    "print(\"\\n => X_float: \", x_float)\n",
    "\n",
    "\n"
   ]
  },
  {
   "cell_type": "markdown",
   "metadata": {},
   "source": [
    "3\\. Write a program to determine the underflow and overflow limits (within a factor of 2) for python on your computer. \n",
    "\n",
    "**Tip**: define two variables initialized to 1 and halve/double them for a sufficient amount of times to exceed the under/over-flow limits  "
   ]
  },
  {
   "cell_type": "code",
   "execution_count": 3,
   "metadata": {},
   "outputs": [
    {
     "name": "stdout",
     "output_type": "stream",
     "text": [
      "Calculated overflow limit:  8.98846567431158e+307\n",
      "Calculated underflow limit:  5e-324\n",
      "Expected maximum (sys info):  1.7976931348623157e+308\n",
      "Expected minimum (sys info):  2.2250738585072014e-308\n"
     ]
    }
   ],
   "source": [
    "#Exercise 3\n",
    "\n",
    "from math import inf\n",
    "\n",
    "under=1.0\n",
    "over=1.0\n",
    "\n",
    "\n",
    "while(over*2.0!= inf): #Se il multiplo successivo non è calcolabile (non ottengo risultato numerico previsto, ma + inf), il numero in esame è il limite superiore\n",
    "    over=over*2.0\n",
    "print(\"Calculated overflow limit: \", over)\n",
    "\n",
    "while(under/2.0!= 0.0): # Se la frazione successiva non è calcolabile (non ottengo il risultato numerico previsto, ma 0), il numero in esame è il limite inferiore\n",
    "    under=under/2.0\n",
    "print(\"Calculated underflow limit: \", under)\n",
    "\n",
    "\n",
    "\n",
    "#Check of the results:\n",
    "import sys\n",
    "print(\"Expected maximum (sys info): \", sys.float_info.max)\n",
    "print(\"Expected minimum (sys info): \", sys.float_info.min)\n",
    "\n"
   ]
  },
  {
   "cell_type": "markdown",
   "metadata": {},
   "source": [
    "**Comments to results:**\n",
    "\n",
    "- Calculted overflow limit agrees with expected within a factor 2.\n",
    "\n",
    "- Calculated underflow limit is bigger than the expected one: subnormal numbers are not taken into account by sys infos."
   ]
  },
  {
   "cell_type": "markdown",
   "metadata": {},
   "source": [
    "4\\. Write a program to determine the machine precision\n",
    "\n",
    "**Tip**: define a new variable by adding an increasingly smaller value (in the same way as the previous problem) and check when the addition starts to have no effect on the number"
   ]
  },
  {
   "cell_type": "code",
   "execution_count": 4,
   "metadata": {},
   "outputs": [
    {
     "name": "stdout",
     "output_type": "stream",
     "text": [
      "Calculated machine precision:  2.220446049250313e-16\n",
      "Expected result (sys info):  2.220446049250313e-16\n"
     ]
    }
   ],
   "source": [
    "#Exercise 4\n",
    "\n",
    "epsilon = 1.0;\n",
    "\n",
    "while (1.0 + epsilon/2.0) != 1.0:\n",
    "    epsilon = epsilon/2.0\n",
    "\n",
    "print(\"Calculated machine precision: \", epsilon)\n",
    "\n",
    "import sys\n",
    "print(\"Expected result (sys info): \", sys.float_info.epsilon)"
   ]
  },
  {
   "cell_type": "markdown",
   "metadata": {},
   "source": [
    "5\\. Write a function that takes in input three parameters $a$, $b$ and $c$ and prints out the two solutions to the quadratic equation $ax^2+bx+c=0$ using the standard formula:\n",
    "$$\n",
    "x=\\frac{-b\\pm\\sqrt{b^2-4ac}}{2a}\n",
    "$$\n",
    "\n",
    "(a) use the program to compute the solution for $a=0.001$, $b=1000$ and $c=0.001$\n",
    "\n",
    "(b) re-express the standard solution formula by multiplying the numerator and the denominator by $-b\\mp\\sqrt{b^2-4ac}$ and again find the solution for $a=0.001$, $b=1000$ and $c=0.001$. How does it compare with what has been previously obtained, and why?\n",
    "\n",
    "(c) write a function that computes the roots of a quadratic equation accurately in all cases"
   ]
  },
  {
   "cell_type": "code",
   "execution_count": 5,
   "metadata": {},
   "outputs": [
    {
     "name": "stdout",
     "output_type": "stream",
     "text": [
      "Standard sol: \n",
      " [-9.999894245993346e-07, -999999.999999]\n",
      "Corrected sol. (Citardauq formula): \n",
      " [-1.000000000001e-06, -1000010.5755125057]\n",
      "Difference: \n",
      " [1.0575401665491313e-11, 10.575513505726121]\n",
      "Sol obtained via stable algorithm: \n",
      " [-1.000000000001e-06, -999999.999999]\n"
     ]
    }
   ],
   "source": [
    "#Exercise 5\n",
    "\n",
    "from math import sqrt\n",
    "\n",
    "\n",
    "#5a\n",
    "def standard_quadr_eq(a,b,c):\n",
    "    sol1= (-b + sqrt(b**2-4*a*c))/(2.0*a)\n",
    "    sol2= (-b - sqrt(b**2-4*a*c))/(2.0*a)\n",
    "    return [sol1,sol2]\n",
    "\n",
    "\n",
    "#5b\n",
    "def citar_quadr_eq(a,b,c):\n",
    "    \n",
    "    #Citardauq Formula (obtained by multiplying num and den by -b -+ sqrt(b^2-4ac)\n",
    "    sol1 = (2*c)/(-b-sqrt(b**2-4*a*c))\n",
    "    sol2 = (2*c)/(-b+sqrt(b**2-4*a*c))\n",
    "    return [sol1,sol2]\n",
    "    \n",
    "    \n",
    "    \n",
    "standard_sol = standard_quadr_eq(0.001,1000,0.001)\n",
    "citar_sol = citar_quadr_eq(0.001,1000,0.001)\n",
    "\n",
    "print(\"Standard sol: \\n\", standard_sol)\n",
    "print(\"Corrected sol. (Citardauq formula): \\n\", citar_sol)\n",
    "\n",
    "\n",
    "diff =[standard_sol[0]-citar_sol[0], standard_sol[1]- citar_sol[1] ]\n",
    "print(\"Difference: \\n\", diff)\n",
    "\n",
    "\n",
    "#5c\n",
    "def stable_quadr_eq(a,b,c):\n",
    "    if (b>=0):\n",
    "        sol1 = (2*c)/(-b-sqrt(b**2-4*a*c)) #Citardauq\n",
    "        sol2 = (-b - sqrt(b**2-4*a*c))/(2.0*a) #Standard\n",
    "        return [sol1, sol2]\n",
    "    elif (b<0):\n",
    "        sol1= (-b + sqrt(b**2-4*a*c))/(2.0*a) #Standard\n",
    "        sol2 = (2*c)/(-b+sqrt(b**2-4*a*c)) #Citardauq\n",
    "        \n",
    "\n",
    "stable_sol = stable_quadr_eq(0.001,1000,0.001)\n",
    "print(\"Sol obtained via stable algorithm: \\n\", stable_sol)\n",
    "    \n",
    "\n",
    "\n"
   ]
  },
  {
   "cell_type": "markdown",
   "metadata": {},
   "source": [
    "**Comments to results:**\n",
    "\n",
    "Standard (5a) and Citardauq (5b) formulas are analytically equivalent. So, if the precision were infinite, they would lead exactly to the same result.\n",
    "\n",
    "The difference in the results is due to the finite precision available to make the calculations. \n",
    "\n",
    "In particular, problems arise when $b \\approx \\sqrt{(b^2-4ac)}$: \n",
    "\n",
    "in this case, when in the algebric sum $-b \\pm \\sqrt{(b^2-4ac)}$ the two components have opposite sign, the result is nearly zero, and this is problematic. So close to zero, a small variation in the result of $-b \\pm \\sqrt{(b^2-4ac)}$ becomes significant when propagated in the rest of the calculation (division by $2a$/multiplication by $2c$): the solution is unstable.\n",
    "\n",
    "A possible way to obtain a stable solution (5c) is to avoid the \"zero\" situations, namely to avoid the formulas in which the two terms in $-b \\pm \\sqrt{(b^2-4ac)}$ have opposite signs.\n",
    "This is achieved by computing one solution with the standard formula, one with the Citardauq.\n",
    "\n",
    "We define:\n",
    "\n",
    "sol$^+$ = solutions (one standard, one from Citardauq) containing $-b + \\sqrt{(b^2-4ac)}$\n",
    "\n",
    "sol$^-$ = solutions (one standard, one from Citardauq) containing $-b - \\sqrt{(b^2-4ac)}$\n",
    "\n",
    "We assume the square root is positive (=to have two real solutions to the equation).\n",
    "\n",
    "Therefore, \n",
    "\n",
    "if b is positive, we use the two sol$^-$\n",
    "\n",
    "if b is negative, we use the two sol$^+$\n",
    "\n",
    "\n"
   ]
  },
  {
   "cell_type": "markdown",
   "metadata": {},
   "source": [
    "6\\. Write a program that implements the function $f(x)=x(x−1)$\n",
    "\n",
    "(a) Calculate the derivative of the function at the point $x = 1$ using the derivative definition:\n",
    "\n",
    "$$\n",
    "\\frac{{\\rm d}f}{{\\rm d}x} = \\lim_{\\delta\\to0} \\frac{f(x+\\delta)-f(x)}{\\delta}\n",
    "$$\n",
    "\n",
    "with $\\delta = 10^{−2}$. Calculate the true value of the same derivative analytically and compare it with the answer your program gives. The two will not agree perfectly. Why?\n",
    "\n",
    "(b) Repeat the calculation for $\\delta = 10^{−4}, 10^{−6}, 10^{−8}, 10^{−10}, 10^{−12}$ and $10^{−14}$. How does the accuracy scales with $\\delta$?"
   ]
  },
  {
   "cell_type": "code",
   "execution_count": 6,
   "metadata": {},
   "outputs": [
    {
     "name": "stdout",
     "output_type": "stream",
     "text": [
      "Delta = 0.01\n",
      "f'(1)_def =  1.010000000000001  \t f'(1)_analytical =  1 \t \t Diff. = def-anal =  0.010000000000000897\n",
      "Delta = 0.0001\n",
      "f'(1)_def =  1.0000999999998899  \t f'(1)_analytical =  1 \t \t Diff. = def-anal =  9.999999988985486e-05\n",
      "Delta = 1e-06\n",
      "f'(1)_def =  1.0000009999177333  \t f'(1)_analytical =  1 \t \t Diff. = def-anal =  9.99917733279787e-07\n",
      "Delta = 1e-08\n",
      "f'(1)_def =  1.0000000039225287  \t f'(1)_analytical =  1 \t \t Diff. = def-anal =  3.922528746258536e-09\n",
      "Delta = 1e-10\n",
      "f'(1)_def =  1.000000082840371  \t f'(1)_analytical =  1 \t \t Diff. = def-anal =  8.284037100736441e-08\n",
      "Delta = 1e-12\n",
      "f'(1)_def =  1.0000889005833413  \t f'(1)_analytical =  1 \t \t Diff. = def-anal =  8.890058334132256e-05\n",
      "Delta = 1e-14\n",
      "f'(1)_def =  0.9992007221626509  \t f'(1)_analytical =  1 \t \t Diff. = def-anal =  -0.0007992778373491216\n"
     ]
    }
   ],
   "source": [
    "#Exercise 6\n",
    "\n",
    "def f(x):\n",
    "    return x*(x-1)\n",
    "\n",
    "x=1\n",
    "\n",
    "def derivative_def(x,delta):\n",
    "    return (f(x+delta)-f(x))/delta\n",
    "\n",
    "def derivative_anal(x):\n",
    "    return 2*x-1\n",
    "\n",
    "exp=2\n",
    "scarto = 0\n",
    "while (exp <= 14):\n",
    "    print(\"Delta =\", 10**(-exp))\n",
    "    print(\"f'(1)_def = \", derivative_def(1,10**(-exp)), \" \\t f'(1)_analytical = \", derivative_anal(1), \"\\t \\t Diff. = def-anal = \", derivative_def(1,10**(-exp))-derivative_anal(1))\n",
    "    exp = exp+2\n",
    "    \n",
    "#Idea: all'inizio l'accordo migliora perchè ci si avvicina di più alla def di limite (delta->0), arriva ad accordo massimo per delta = 10^-8, \n",
    "#poi peggiora perchè perdo precisione: f(x+delta) approx f(x), >>delta. "
   ]
  },
  {
   "cell_type": "markdown",
   "metadata": {},
   "source": [
    "**Comments to result:**\n",
    "\n",
    "The initial value ($\\delta = 10^{-2}$) is quite high, so it does not fullfill the request (from the definition of derivative) of having $\\delta \\rightarrow 0$. Indeed, the result obtained with this value of $\\delta$ in the definition of derivative is slightly different from the result obtained via analytical calculation.\n",
    "\n",
    "When we reduce the value of $\\delta$, it becomes more consistent with the request in the definition, and coherently the accordance between the two results improves (the difference, third column, becomes smaller).\n",
    "\n",
    "After a critical/optimal value of $\\delta \\propto 10^{-8}$, the difference increases again: this is due to the fact that we are going beyond the achievable numerical precision. \n",
    "\n",
    "The optimal value for $\\delta$ is therefore a compromise between the need of being close to zero (from the definition) and the limited capability to represent extremely small numbers.\n"
   ]
  },
  {
   "cell_type": "markdown",
   "metadata": {},
   "source": [
    "7\\. Consider the integral of the semicircle of radius 1:\n",
    "$$\n",
    "I=\\int_{-1}^{1} \\sqrt(1-x^2) {\\rm d}x\n",
    "$$\n",
    "which is known to be $I=\\frac{\\pi}{2}=1.57079632679...$.\n",
    "\n",
    "Alternatively we can use the Riemann definition of the integral:\n",
    "$$\n",
    "I=\\lim_{N\\to\\infty} \\sum_{k=1}^{N} h y_k \n",
    "$$\n",
    "\n",
    "with $h=2/N$ the width of each of the $N$ slices the domain is divided into and where\n",
    "$y_k$ is the value of the function at the $k-$th slice.\n",
    "\n",
    "(a) Write a program to compute the integral with $N=100$. How does the result compare to the true value?\n",
    "\n",
    "(b) How much can $N$ be increased if the computation needs to be run in less than a second? What is the gain in running it for 1 minute? \n"
   ]
  },
  {
   "cell_type": "code",
   "execution_count": 7,
   "metadata": {},
   "outputs": [
    {
     "name": "stdout",
     "output_type": "stream",
     "text": [
      "Exact value =  1.5707963267948966\n",
      "Riemann integral (N=100) =  1.5712827762297947\n",
      "Time needed to evaluate it: \n",
      "19.3 µs ± 280 ns per loop (mean ± std. dev. of 7 runs, 100000 loops each)\n",
      "Difference (%) =  0.030968332851321344\n",
      "\n",
      "\n",
      "N =  3000000 \t Computation time (s) =  0.5825378894805908\n",
      "N =  3200000 \t Computation time (s) =  0.6347751617431641\n",
      "N =  3400000 \t Computation time (s) =  0.6529960632324219\n",
      "N =  3600000 \t Computation time (s) =  0.71669602394104\n",
      "N =  3800000 \t Computation time (s) =  0.7087242603302002\n",
      "N =  4000000 \t Computation time (s) =  0.7855305671691895\n",
      "N =  4200000 \t Computation time (s) =  0.7855472564697266\n",
      "N =  4400000 \t Computation time (s) =  0.8292434215545654\n",
      "N =  4600000 \t Computation time (s) =  0.8882238864898682\n",
      "N =  4800000 \t Computation time (s) =  0.9005832672119141\n",
      "N =  5000000 \t Computation time (s) =  0.9556500911712646\n",
      "N =  5200000 \t Computation time (s) =  1.036867380142212\n",
      "Computation time exceeds 1s \n",
      "\n",
      "=> Maximum N to stay under 1s =  5000000\n",
      "Corresponding computation time:\n",
      "937 ms ± 13.7 ms per loop (mean ± std. dev. of 7 runs, 1 loop each)\n",
      "Difference (%) =  4.2869636366552923e-10\n",
      "\n",
      "\n",
      "=> Maximum N to stay under 1 minute approx.  300000000\n"
     ]
    }
   ],
   "source": [
    "#Exercise 7\n",
    "\n",
    "#7a\n",
    "\n",
    "from math import sqrt,pi\n",
    "import time\n",
    "import timeit\n",
    "\n",
    "I_exact = pi/2\n",
    "\n",
    "def riemann_int(N):\n",
    "    I_R = 0\n",
    "    c = -1.0 +1.0/N # Central point of the first interval\n",
    "    for i in range(0,N):\n",
    "        I_R += (2.0/N)*sqrt(1-c**2) # Width of the domain interval (base) * value of the function (altezza) evaluated in the central point of the domain interval\n",
    "        c = c + 2.0/N # Central point of each domain interval\n",
    "    return I_R\n",
    "\n",
    "I_r100 = riemann_int(100)\n",
    "\n",
    "\n",
    "print(\"Exact value = \", I_exact)\n",
    "print(\"Riemann integral (N=100) = \", I_r100)\n",
    "print(\"Time needed to evaluate it: \")\n",
    "%timeit riemann_int(100)\n",
    "print(\"Difference (%) = \", abs(100*(I_exact - I_r100)/I_exact))\n",
    "print(\"\\n\")\n",
    "\n",
    "\n",
    "#7b\n",
    "\n",
    "i=3*(10**6) #Appropriate starting point determined with some loops spanning from N=1 to N=10^9, with smaller and smaller steps\n",
    "while i<10**8:\n",
    "    start = time.time()\n",
    "    riemann_int(i)\n",
    "    stop = time.time()\n",
    "    print(\"N = \",i, \"\\t Computation time (s) = \", stop-start)\n",
    "    if stop-start >1:\n",
    "        print(\"Computation time exceeds 1s \\n\")\n",
    "        Nmax = i-200000\n",
    "        print(\"=> Maximum N to stay under 1s = \", Nmax)\n",
    "        print(\"Corresponding computation time:\")\n",
    "        %timeit riemann_int(Nmax)\n",
    "        break\n",
    "    i+=200000 #Smaller steps are not possible (computation time is affected by fluctuations)\n",
    "    \n",
    "    \n",
    "    \n",
    "# I calculate the value of the integral for N=N_max\n",
    "I_r_Nmax = riemann_int(Nmax)\n",
    "print(\"Difference (%) = \", abs(100*(I_exact - I_r_Nmax)/I_exact))\n",
    "\n",
    "#Assuming proportionality between N and computation time needed\n",
    "Nmax_1minute = 60*Nmax\n",
    "print(\"\\n\")\n",
    "print(\"=> Maximum N to stay under 1 minute approx. \", Nmax_1minute)\n",
    "\n",
    "\n"
   ]
  },
  {
   "cell_type": "markdown",
   "metadata": {},
   "source": [
    "**Comments to results**\n",
    "\n",
    "- Passing from $t\\approx 20 \\mu s$ to $t \\approx 1 s$, the accuracy of the numerical integration increases by a factor $10^8$: the difference between the numerical and the analytical integral goes down from $\\approx 3*10^{-2}\\%$ to $\\approx 4*10^{-10} \\%$.\n",
    "\n",
    "\n",
    "\n",
    "- Assuming proportionality between N and computation time needed, the maximum N that keeps computation time under 1 minute (= 60 s) is about $Nmax[1minute]\\approx 60* Nmax[1second]$\n",
    "\n",
    "\n",
    "\n"
   ]
  },
  {
   "cell_type": "code",
   "execution_count": null,
   "metadata": {},
   "outputs": [],
   "source": []
  }
 ],
 "metadata": {
  "kernelspec": {
   "display_name": "Python 3 (ipykernel)",
   "language": "python",
   "name": "python3"
  },
  "language_info": {
   "codemirror_mode": {
    "name": "ipython",
    "version": 3
   },
   "file_extension": ".py",
   "mimetype": "text/x-python",
   "name": "python",
   "nbconvert_exporter": "python",
   "pygments_lexer": "ipython3",
   "version": "3.7.4"
  }
 },
 "nbformat": 4,
 "nbformat_minor": 2
}
