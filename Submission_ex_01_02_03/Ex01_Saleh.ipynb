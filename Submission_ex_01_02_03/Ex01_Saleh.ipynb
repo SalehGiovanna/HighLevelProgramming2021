{
 "cells": [
  {
   "cell_type": "markdown",
   "metadata": {},
   "source": [
    "1. The HelloWorld replacement\n",
    "\n",
    "a) Write a program that prints the numbers from 1 to 100. But for multiples of three print \"Hello\" instead of the number and for the multiples of five print \"World\". For numbers which are multiples of both three and five print \"HelloWorld\".\n",
    "\n",
    "b) Put the result in a tuple and substitute \"Hello\" with \"Python\" and \"World\" with \"Works\"."
   ]
  },
  {
   "cell_type": "code",
   "execution_count": 19,
   "metadata": {
    "scrolled": true
   },
   "outputs": [
    {
     "name": "stdout",
     "output_type": "stream",
     "text": [
      "1\n",
      "2\n",
      "3\n",
      "4\n",
      "5\n",
      "6\n",
      "7\n",
      "8\n",
      "9\n",
      "10\n",
      "11\n",
      "12\n",
      "13\n",
      "14\n",
      "15\n",
      "16\n",
      "17\n",
      "18\n",
      "19\n",
      "20\n",
      "21\n",
      "22\n",
      "23\n",
      "24\n",
      "25\n",
      "26\n",
      "27\n",
      "28\n",
      "29\n",
      "30\n",
      "31\n",
      "32\n",
      "33\n",
      "34\n",
      "35\n",
      "36\n",
      "37\n",
      "38\n",
      "39\n",
      "40\n",
      "41\n",
      "42\n",
      "43\n",
      "44\n",
      "45\n",
      "46\n",
      "47\n",
      "48\n",
      "49\n",
      "50\n",
      "51\n",
      "52\n",
      "53\n",
      "54\n",
      "55\n",
      "56\n",
      "57\n",
      "58\n",
      "59\n",
      "60\n",
      "61\n",
      "62\n",
      "63\n",
      "64\n",
      "65\n",
      "66\n",
      "67\n",
      "68\n",
      "69\n",
      "70\n",
      "71\n",
      "72\n",
      "73\n",
      "74\n",
      "75\n",
      "76\n",
      "77\n",
      "78\n",
      "79\n",
      "80\n",
      "81\n",
      "82\n",
      "83\n",
      "84\n",
      "85\n",
      "86\n",
      "87\n",
      "88\n",
      "89\n",
      "90\n",
      "91\n",
      "92\n",
      "93\n",
      "94\n",
      "95\n",
      "96\n",
      "97\n",
      "98\n",
      "99\n",
      "100\n"
     ]
    }
   ],
   "source": [
    "#Prova\n",
    "\n",
    "for i in range(1,101): print (i) "
   ]
  },
  {
   "cell_type": "code",
   "execution_count": 20,
   "metadata": {
    "scrolled": true
   },
   "outputs": [
    {
     "name": "stdout",
     "output_type": "stream",
     "text": [
      "1\n",
      "2\n",
      "Hello\n",
      "4\n",
      "World\n",
      "Hello\n",
      "7\n",
      "8\n",
      "Hello\n",
      "World\n",
      "11\n",
      "Hello\n",
      "13\n",
      "14\n",
      "HelloWorld\n",
      "16\n",
      "17\n",
      "Hello\n",
      "19\n",
      "World\n",
      "Hello\n",
      "22\n",
      "23\n",
      "Hello\n",
      "World\n",
      "26\n",
      "Hello\n",
      "28\n",
      "29\n",
      "HelloWorld\n",
      "31\n",
      "32\n",
      "Hello\n",
      "34\n",
      "World\n",
      "Hello\n",
      "37\n",
      "38\n",
      "Hello\n",
      "World\n",
      "41\n",
      "Hello\n",
      "43\n",
      "44\n",
      "HelloWorld\n",
      "46\n",
      "47\n",
      "Hello\n",
      "49\n",
      "World\n",
      "Hello\n",
      "52\n",
      "53\n",
      "Hello\n",
      "World\n",
      "56\n",
      "Hello\n",
      "58\n",
      "59\n",
      "HelloWorld\n",
      "61\n",
      "62\n",
      "Hello\n",
      "64\n",
      "World\n",
      "Hello\n",
      "67\n",
      "68\n",
      "Hello\n",
      "World\n",
      "71\n",
      "Hello\n",
      "73\n",
      "74\n",
      "HelloWorld\n",
      "76\n",
      "77\n",
      "Hello\n",
      "79\n",
      "World\n",
      "Hello\n",
      "82\n",
      "83\n",
      "Hello\n",
      "World\n",
      "86\n",
      "Hello\n",
      "88\n",
      "89\n",
      "HelloWorld\n",
      "91\n",
      "92\n",
      "Hello\n",
      "94\n",
      "World\n",
      "Hello\n",
      "97\n",
      "98\n",
      "Hello\n",
      "World\n"
     ]
    }
   ],
   "source": [
    "#Exercise 1a\n",
    "\n",
    "for i in range(1,101):\n",
    "    if ((i%3==0.0) and (i%5==0.0)):\n",
    "        print(\"HelloWorld\")\n",
    "    elif ((i%3==0.0) and (i%5!=0.0)):\n",
    "        print(\"Hello\")\n",
    "    elif ((i%5==0.0) and (i%3!=0.0)):\n",
    "        print(\"World\")\n",
    "    else:\n",
    "        print(i)\n",
    "        \n",
    "        "
   ]
  },
  {
   "cell_type": "code",
   "execution_count": 21,
   "metadata": {},
   "outputs": [
    {
     "name": "stdout",
     "output_type": "stream",
     "text": [
      "(1, 2, 'Python', 4, 'Works', 'Python', 7, 8, 'Python', 'Works', 11, 'Python', 13, 14, 'PythonWorks', 16, 17, 'Python', 19, 'Works', 'Python', 22, 23, 'Python', 'Works', 26, 'Python', 28, 29, 'PythonWorks', 31, 32, 'Python', 34, 'Works', 'Python', 37, 38, 'Python', 'Works', 41, 'Python', 43, 44, 'PythonWorks', 46, 47, 'Python', 49, 'Works', 'Python', 52, 53, 'Python', 'Works', 56, 'Python', 58, 59, 'PythonWorks', 61, 62, 'Python', 64, 'Works', 'Python', 67, 68, 'Python', 'Works', 71, 'Python', 73, 74, 'PythonWorks', 76, 77, 'Python', 79, 'Works', 'Python', 82, 83, 'Python', 'Works', 86, 'Python', 88, 89, 'PythonWorks', 91, 92, 'Python', 94, 'Works', 'Python', 97, 98, 'Python', 'Works')\n"
     ]
    }
   ],
   "source": [
    "#Exercise 1b (Version 1)\n",
    "#I start already with the modified entries, put them in a list, and build a tuple from the list\n",
    "\n",
    "l=list()\n",
    "\n",
    "for i in range(1,101):\n",
    "    if ((i%3==0.0) and (i%5==0.0)):\n",
    "        l.append(\"PythonWorks\")\n",
    "    elif ((i%3==0.0) and (i%5!=0.0)):\n",
    "        l.append(\"Python\")\n",
    "    elif ((i%5==0.0) and (i%3!=0.0)):\n",
    "        l.append(\"Works\")\n",
    "    else:\n",
    "        l.append(i)\n",
    "        \n",
    "t=tuple(l)\n",
    "print(t)\n",
    "\n"
   ]
  },
  {
   "cell_type": "code",
   "execution_count": 22,
   "metadata": {},
   "outputs": [
    {
     "name": "stdout",
     "output_type": "stream",
     "text": [
      "(1, 2, 'Python', 4, 'Works', 'Python', 7, 8, 'Python', 'Works', 11, 'Python', 13, 14, 'PythonWorks', 16, 17, 'Python', 19, 'Works', 'Python', 22, 23, 'Python', 'Works', 26, 'Python', 28, 29, 'PythonWorks', 31, 32, 'Python', 34, 'Works', 'Python', 37, 38, 'Python', 'Works', 41, 'Python', 43, 44, 'PythonWorks', 46, 47, 'Python', 49, 'Works', 'Python', 52, 53, 'Python', 'Works', 56, 'Python', 58, 59, 'PythonWorks', 61, 62, 'Python', 64, 'Works', 'Python', 67, 68, 'Python', 'Works', 71, 'Python', 73, 74, 'PythonWorks', 76, 77, 'Python', 79, 'Works', 'Python', 82, 83, 'Python', 'Works', 86, 'Python', 88, 89, 'PythonWorks', 91, 92, 'Python', 94, 'Works', 'Python', 97, 98, 'Python', 'Works')\n"
     ]
    }
   ],
   "source": [
    "#Exercise 1b (Version 2)\n",
    "#I put in the list the entries of ex 1a, then I do the replacement, and then build a tuple from the resulting list\n",
    "\n",
    "#I fill the list with the original entries\n",
    "l = list()\n",
    "\n",
    "for i in range(1,101):\n",
    "    if ((i%3==0.0) and (i%5==0.0)):\n",
    "        l.append(\"HelloWorld\")\n",
    "    elif ((i%3==0.0) and (i%5!=0.0)):\n",
    "        l.append(\"Hello\")\n",
    "    elif ((i%5==0.0) and (i%3!=0.0)):\n",
    "        l.append(\"World\")\n",
    "    else:\n",
    "        l.append(i)\n",
    "\n",
    "#I perform the requested substitution\n",
    "for i in range(0,100):\n",
    "    if l[i]==\"Hello\":\n",
    "        l[i]=\"Python\"\n",
    "    elif l[i]==\"World\":\n",
    "        l[i]=\"Works\"\n",
    "    elif l[i] ==\"HelloWorld\":\n",
    "        l[i] = \"PythonWorks\"\n",
    "        \n",
    "#I build the tuple\n",
    "t=tuple(l)\n",
    "print(t)\n",
    "\n"
   ]
  },
  {
   "cell_type": "markdown",
   "metadata": {},
   "source": [
    "2\\. The swap function\n",
    "\n",
    "Write a function that swap the values of two input variables x and y (whatever the type). Try to do that also without a temporary variable"
   ]
  },
  {
   "cell_type": "code",
   "execution_count": 23,
   "metadata": {},
   "outputs": [
    {
     "name": "stdout",
     "output_type": "stream",
     "text": [
      "('b', 'a')\n",
      "(2, 1)\n"
     ]
    }
   ],
   "source": [
    "#Exercise 2 (Version 1: with temporary variable)\n",
    "\n",
    "def swap(x, y):\n",
    "    temp = x\n",
    "    x=y\n",
    "    y=temp\n",
    "    return(x,y)\n",
    "\n",
    "print(swap(\"a\",\"b\"))\n",
    "print(swap(1,2))"
   ]
  },
  {
   "cell_type": "code",
   "execution_count": 24,
   "metadata": {},
   "outputs": [
    {
     "name": "stdout",
     "output_type": "stream",
     "text": [
      "['b', 'a']\n",
      "[2, 1]\n"
     ]
    }
   ],
   "source": [
    "#Exercise 2 (Version 2: without temporary variable)\n",
    "\n",
    "def swap(l):\n",
    "    l.reverse() \n",
    "    return l\n",
    "\n",
    "print(swap([\"a\",\"b\"]))\n",
    "print(swap([1,2]))\n"
   ]
  },
  {
   "cell_type": "markdown",
   "metadata": {},
   "source": [
    "3\\. Computing the distance\n",
    "\n",
    "Write a function that calculates and returns the euclidean distance between two points *u* and *v*, where *u* and *v* are both 2-tuples *(x,y)*. For example, if *u=(3,0)* and *v=(0,4)*, the function should return 5"
   ]
  },
  {
   "cell_type": "code",
   "execution_count": 25,
   "metadata": {},
   "outputs": [
    {
     "data": {
      "text/plain": [
       "5.0"
      ]
     },
     "execution_count": 25,
     "metadata": {},
     "output_type": "execute_result"
    }
   ],
   "source": [
    "#Exercise 3\n",
    "\n",
    "from math import sqrt\n",
    "\n",
    "def distanza(a,b): \n",
    "    d = sqrt((a[0]-b[0])**2+(a[1]-b[1])**2)\n",
    "    return d\n",
    "\n",
    "distanza((3,0),(0,4))\n",
    "\n",
    "\n",
    "    "
   ]
  },
  {
   "cell_type": "markdown",
   "metadata": {},
   "source": [
    "4\\. Counting letters\n",
    "\n",
    "Write a program to calculate the number of times each character occurs in a given string *s*. Ignore differences in capitalization"
   ]
  },
  {
   "cell_type": "code",
   "execution_count": 26,
   "metadata": {},
   "outputs": [
    {
     "name": "stdout",
     "output_type": "stream",
     "text": [
      "Input string: \n",
      "WRITE A PROGRAM THAT PRINTS THE NUMBERS FROM 1 TO 100. BUT FOR MULTIPLES OF THREE PRINT HELLO INSTEAD OF THE NUMBER AND FOR THE MULTIPLES OF FIVE PRINT WORLD. FOR NUMBERS WHICH ARE MULTIPLES OF BOTH THREE AND FIVE PRINT HELLOWORLD.\n",
      "\n",
      "Number of characters in the string:\n",
      "231\n",
      "\n",
      "\n",
      "Character   appears 41 times\n",
      "Character . appears 3 times\n",
      "Character 0 appears 2 times\n",
      "Character 1 appears 2 times\n",
      "Character a appears 7 times\n",
      "Character b appears 5 times\n",
      "Character c appears 1 times\n",
      "Character d appears 5 times\n",
      "Character e appears 20 times\n",
      "Character f appears 10 times\n",
      "Character g appears 1 times\n",
      "Character h appears 11 times\n",
      "Character i appears 12 times\n",
      "Character l appears 12 times\n",
      "Character m appears 8 times\n",
      "Character n appears 10 times\n",
      "Character o appears 15 times\n",
      "Character p appears 8 times\n",
      "Character r appears 19 times\n",
      "Character s appears 7 times\n",
      "Character t appears 19 times\n",
      "Character u appears 7 times\n",
      "Character v appears 2 times\n",
      "Character w appears 4 times\n",
      "Check total characters: 231\n"
     ]
    }
   ],
   "source": [
    "#Exercise 4\n",
    "\n",
    "s = str()\n",
    "l = list()\n",
    "\n",
    "\n",
    "s = \"Write a program that prints the numbers from 1 to 100. But for multiples of three print Hello instead of the number and for the multiples of five print World. \\\n",
    "For numbers which are multiples of both three and five print HelloWorld.\"\n",
    "\n",
    "print(\"Input string: \\n\" + s.upper() + \"\\n\")\n",
    "\n",
    "l = [x for x in s]\n",
    "\n",
    "print(\"Number of characters in the string:\")\n",
    "print(len(l))\n",
    "print(\"\\n\")\n",
    "\n",
    "\n",
    "l_temp=list()\n",
    "n_temp=list()\n",
    "\n",
    "l_output=list()\n",
    "\n",
    "for i in range(0,len(l)):\n",
    "    n_temp.append(0)\n",
    "    for j in range(0,len(l)):\n",
    "        if ((l[j]==l[i]) or (l[j]==l[i].lower()) or (l[j]==l[i].upper())):\n",
    "            n_temp[i]+=1\n",
    "            \n",
    "    if ((l[i] not in l_temp and (l[i].upper() not in l_temp) and (l[i].lower() not in l_temp))):\n",
    "        l_temp.append(l[i])\n",
    "        l_output.append([str(l[i].lower()),str(n_temp[i])])\n",
    "        \n",
    "           \n",
    "l_output.sort()\n",
    "\n",
    "n_tot=0\n",
    "\n",
    "for i in range(0,len(l_temp)):\n",
    "    print(\"Character \" + l_output[i][0] + \" appears \" + l_output[i][1] + \" times\")\n",
    "    n_tot += int(l_output[i][1])\n",
    "    \n",
    "\n",
    "print(\"Check total characters: \" + str(n_tot))\n",
    "        \n"
   ]
  },
  {
   "cell_type": "markdown",
   "metadata": {},
   "source": [
    "5\\. Isolating the unique\n",
    "\n",
    "5a. Write a function that determines and count the unique numbers in the list:"
   ]
  },
  {
   "cell_type": "code",
   "execution_count": 27,
   "metadata": {},
   "outputs": [
    {
     "name": "stdout",
     "output_type": "stream",
     "text": [
      "Uniques: [36, 45, 58, 3, 74, 96, 64, 31, 10, 24, 19, 33, 86, 99, 18, 63, 70, 85, 47, 56, 42, 84, 88, 55, 20, 54, 8, 51, 79, 81, 57, 37, 91, 1, 66, 9, 89, 50, 95, 90, 98, 39, 16, 82, 92, 41, 30, 34, 94, 5, 72, 87, 75, 53]\n",
      "Number of entries in the original list:  80\n",
      "Number of uniques:  54\n"
     ]
    }
   ],
   "source": [
    "#Exercise 5a\n",
    "\n",
    "l = [36, 45, 58, 3, 74, 96, 64, 45, 31, 10, 24, 19, 33, 86, 99, 18, 63, 70, 85,\n",
    " 85, 63, 47, 56, 42, 70, 84, 88, 55, 20, 54, 8, 56, 51, 79, 81, 57, 37, 91,\n",
    " 1, 84, 84, 36, 66, 9, 89, 50, 42, 91, 50, 95, 90, 98, 39, 16, 82, 31, 92, 41,\n",
    " 45, 30, 66, 70, 34, 85, 94, 5, 3, 36, 72, 91, 84, 34, 87, 75, 53, 51, 20, 89, 51, 20]\n",
    "\n",
    "def find_uniques(l):\n",
    "    l_uniques=list()\n",
    "    for i in range(0,len(l)):\n",
    "        if(l[i] not in l_uniques):\n",
    "            l_uniques.append(l[i])\n",
    "            \n",
    "    print(\"Uniques:\", l_uniques)\n",
    "    print(\"Number of entries in the original list: \", len(l))\n",
    "    print(\"Number of uniques: \", len(l_uniques))\n",
    "    \n",
    "    \n",
    "find_uniques(l)\n"
   ]
  },
  {
   "cell_type": "markdown",
   "metadata": {},
   "source": [
    "5b. Do the same without using user-defined functions, but exploiting only the Python data structures."
   ]
  },
  {
   "cell_type": "code",
   "execution_count": 28,
   "metadata": {},
   "outputs": [
    {
     "name": "stdout",
     "output_type": "stream",
     "text": [
      "Uniques: {1, 3, 5, 8, 9, 10, 16, 18, 19, 20, 24, 30, 31, 33, 34, 36, 37, 39, 41, 42, 45, 47, 50, 51, 53, 54, 55, 56, 57, 58, 63, 64, 66, 70, 72, 74, 75, 79, 81, 82, 84, 85, 86, 87, 88, 89, 90, 91, 92, 94, 95, 96, 98, 99}\n",
      "Number of entries in the oiginal list:  80\n",
      "Number of uniques:  54\n"
     ]
    }
   ],
   "source": [
    "#Exercise 5b\n",
    "\n",
    "l = [36, 45, 58, 3, 74, 96, 64, 45, 31, 10, 24, 19, 33, 86, 99, 18, 63, 70, 85,\n",
    " 85, 63, 47, 56, 42, 70, 84, 88, 55, 20, 54, 8, 56, 51, 79, 81, 57, 37, 91,\n",
    " 1, 84, 84, 36, 66, 9, 89, 50, 42, 91, 50, 95, 90, 98, 39, 16, 82, 31, 92, 41,\n",
    " 45, 30, 66, 70, 34, 85, 94, 5, 3, 36, 72, 91, 84, 34, 87, 75, 53, 51, 20, 89, 51, 20]\n",
    "\n",
    "myset = set(l)\n",
    "print(\"Uniques:\", myset)\n",
    "print(\"Number of entries in the oiginal list: \", len(l))\n",
    "print(\"Number of uniques: \", len(myset))\n"
   ]
  },
  {
   "cell_type": "markdown",
   "metadata": {},
   "source": [
    "6\\. Combination of functions\n",
    "\n",
    "Write two functions - one that returns the square of a number, and one that returns the cube. Now write a third function that returns the number raised to the 6th power using the two previous functions."
   ]
  },
  {
   "cell_type": "code",
   "execution_count": 29,
   "metadata": {},
   "outputs": [
    {
     "name": "stdout",
     "output_type": "stream",
     "text": [
      "2\n",
      "4\n",
      "8\n",
      "64\n"
     ]
    }
   ],
   "source": [
    "#Exercise 6\n",
    "\n",
    "def square(x):\n",
    "    return x**2\n",
    "\n",
    "def cube(x):\n",
    "    return x**3\n",
    "\n",
    "def sixth(x):\n",
    "    return cube(square(x))\n",
    "\n",
    "a=2\n",
    "print(a)\n",
    "print(square(a))\n",
    "print(cube(a))\n",
    "print(sixth(a))\n",
    "\n"
   ]
  },
  {
   "cell_type": "markdown",
   "metadata": {},
   "source": [
    "\n",
    "7\\. Cubes\n",
    "\n",
    "Create a list of the cubes of x for x in *[0, 10]* using:\n",
    "\n",
    "a) a for loop\n",
    "\n",
    "b) a list comprehension"
   ]
  },
  {
   "cell_type": "code",
   "execution_count": 30,
   "metadata": {},
   "outputs": [
    {
     "name": "stdout",
     "output_type": "stream",
     "text": [
      "[0, 1, 8, 27, 64, 125, 216, 343, 512, 729, 1000]\n"
     ]
    }
   ],
   "source": [
    "#Exercise 7a\n",
    "\n",
    "l=list()\n",
    "\n",
    "for i in range(0,11):\n",
    "    l.append(i**3)\n",
    "print(l)\n"
   ]
  },
  {
   "cell_type": "code",
   "execution_count": 31,
   "metadata": {},
   "outputs": [
    {
     "name": "stdout",
     "output_type": "stream",
     "text": [
      "[0, 1, 8, 27, 64, 125, 216, 343, 512, 729, 1000]\n"
     ]
    }
   ],
   "source": [
    "#Exercise 7b\n",
    "\n",
    "l=[x**3 for x in range(0,11)]\n",
    "print(l)\n"
   ]
  },
  {
   "cell_type": "markdown",
   "metadata": {},
   "source": [
    "8\\. Nested list comprehension\n",
    "\n",
    "A Pythagorean triple is an integer solution to the Pythagorean theorem $a^2+b^2=c^2$. The first Pythagorean triple is (3,4,5). Find and put in a tuple all unique Pythagorean triples for the positive integers a, b and c less than 100."
   ]
  },
  {
   "cell_type": "code",
   "execution_count": 32,
   "metadata": {},
   "outputs": [
    {
     "name": "stdout",
     "output_type": "stream",
     "text": [
      "Unique Pythagorean triples with a,b,c<100: \n",
      " ([3, 4, 5], [5, 12, 13], [8, 15, 17], [20, 21, 29], [7, 24, 25], [12, 35, 37], [9, 40, 41], [28, 45, 53], [48, 55, 73], [33, 56, 65], [11, 60, 61], [16, 63, 65], [65, 72, 97], [36, 77, 85], [39, 80, 89], [13, 84, 85])\n"
     ]
    }
   ],
   "source": [
    "#Exercise 8 (Version 1: with standard for loops)\n",
    "\n",
    "from math import sqrt, gcd\n",
    "l=list()\n",
    "\n",
    "for b in range(1,100):\n",
    "    for a in range(1,b+1):#I do not consider triples with a,b=b,a\n",
    "        c=sqrt(a**2+b**2)\n",
    "        if ((c).is_integer() and (c<100) and (gcd(a,b)==1)): #I do not consider triples whose entries are multiple of already found triples\n",
    "                triple=[a,b,int(c)]\n",
    "                l.append(triple)\n",
    "        \n",
    "        \n",
    "t=tuple(l)\n",
    "print(\"Unique Pythagorean triples with a,b,c<100: \\n\", t)\n",
    "\n",
    "    "
   ]
  },
  {
   "cell_type": "code",
   "execution_count": 33,
   "metadata": {},
   "outputs": [
    {
     "name": "stdout",
     "output_type": "stream",
     "text": [
      "Unique Pythagorean triples with a,b,c<100: \n",
      " [[3, 4, 5], [5, 12, 13], [8, 15, 17], [20, 21, 29], [7, 24, 25], [12, 35, 37], [9, 40, 41], [28, 45, 53], [48, 55, 73], [33, 56, 65], [11, 60, 61], [16, 63, 65], [65, 72, 97], [36, 77, 85], [39, 80, 89], [13, 84, 85]]\n"
     ]
    }
   ],
   "source": [
    "#Exercise 8 (Version 2: with nested list comprehension)\n",
    "\n",
    "from math import sqrt,gcd\n",
    "\n",
    "c = lambda a,b : sqrt(a**2+b**2)\n",
    "l=[[a,b, int(c(a,b))] for b in range(1,100) for a in range(1,b+1) if (c(a,b).is_integer() and (c(a,b)<100) and gcd(a,b)==1)]\n",
    "\n",
    "print(\"Unique Pythagorean triples with a,b,c<100: \\n\", l)"
   ]
  },
  {
   "cell_type": "markdown",
   "metadata": {},
   "source": [
    "9\\. Normalization\n",
    "\n",
    "Write a function that takes a tuple of numbers and returns it with the entries normalized to one"
   ]
  },
  {
   "cell_type": "code",
   "execution_count": 34,
   "metadata": {},
   "outputs": [
    {
     "name": "stdout",
     "output_type": "stream",
     "text": [
      "Original vector:\n",
      "(1, 2, 3)\n",
      "Normalized vector:\n",
      "(0.2672612419124244, 0.5345224838248488, 0.8017837257372732)\n",
      "Check of the normalization:\n",
      "1.0\n"
     ]
    },
    {
     "data": {
      "text/plain": [
       "(0.2672612419124244, 0.5345224838248488, 0.8017837257372732)"
      ]
     },
     "execution_count": 34,
     "metadata": {},
     "output_type": "execute_result"
    }
   ],
   "source": [
    "#Exercise 9 (Version 1: I normalize the tuple itself)\n",
    "\n",
    "import math\n",
    "\n",
    "def normalize(t):\n",
    "    \n",
    "    print(\"Original vector:\")\n",
    "    print(t)\n",
    "    \n",
    "    den=0.0\n",
    "    for i in range(0, len(t)):\n",
    "        den+=t[i]**2\n",
    "    den=math.sqrt(den)\n",
    "    \n",
    "    l=[x/den for x in t]\n",
    "    \n",
    "    t_normalized=tuple(l)\n",
    "    \n",
    "    print(\"Normalized vector:\")\n",
    "    print(t_normalized)\n",
    "    \n",
    "    #I check the vector is actually normalized\n",
    "    check_normalization=0.0\n",
    "    for i in range(0,len(t_normalized)):\n",
    "        check_normalization+=t_normalized[i]**2\n",
    "    check_normalization=math.sqrt(check_normalization)\n",
    "    print(\"Check of the normalization:\")\n",
    "    print(check_normalization)\n",
    "    \n",
    "    return(t_normalized)\n",
    "\n",
    "        \n",
    "normalize((1,2,3))\n",
    "\n"
   ]
  },
  {
   "cell_type": "code",
   "execution_count": 35,
   "metadata": {},
   "outputs": [
    {
     "name": "stdout",
     "output_type": "stream",
     "text": [
      "Original tuple: \n",
      " (1, 2, 3)\n",
      "Tuple with normalized entries: \n",
      " (0.3333333333333333, 0.6666666666666666, 1.0)\n"
     ]
    },
    {
     "data": {
      "text/plain": [
       "(0.3333333333333333, 0.6666666666666666, 1.0)"
      ]
     },
     "execution_count": 35,
     "metadata": {},
     "output_type": "execute_result"
    }
   ],
   "source": [
    "#Exercise 9 (Version 2: I normalize the single elements of the tuple to the biggest one)\n",
    "\n",
    "def normalize(t):\n",
    "    print(\"Original tuple: \\n\", t)\n",
    "    maxvalue = max(t)\n",
    "    l_normalized = [x/maxvalue for x in t]\n",
    "    t_normalized = tuple(l_normalized)\n",
    "    print(\"Tuple with normalized entries: \\n\", t_normalized)\n",
    "    return t_normalized\n",
    "\n",
    "\n",
    "\n",
    "normalize((1,2,3))\n"
   ]
  },
  {
   "cell_type": "code",
   "execution_count": null,
   "metadata": {},
   "outputs": [],
   "source": []
  }
 ],
 "metadata": {
  "kernelspec": {
   "display_name": "Python 3 (ipykernel)",
   "language": "python",
   "name": "python3"
  },
  "language_info": {
   "codemirror_mode": {
    "name": "ipython",
    "version": 3
   },
   "file_extension": ".py",
   "mimetype": "text/x-python",
   "name": "python",
   "nbconvert_exporter": "python",
   "pygments_lexer": "ipython3",
   "version": "3.7.4"
  }
 },
 "nbformat": 4,
 "nbformat_minor": 2
}
